{
 "cells": [
  {
   "cell_type": "markdown",
   "id": "309361f7-cff1-41e5-ac92-99a1a392fc98",
   "metadata": {},
   "source": [
    "### Cleaning dataset"
   ]
  },
  {
   "cell_type": "code",
   "execution_count": 1,
   "id": "88533cfc-9e90-4b1e-9b1b-bb49490290af",
   "metadata": {},
   "outputs": [],
   "source": [
    "import pandas as pd\n",
    "import numpy as np\n",
    "\n",
    "import yaml"
   ]
  },
  {
   "cell_type": "code",
   "execution_count": 2,
   "id": "2576af79-b1c6-41bd-abad-3aa404fea47a",
   "metadata": {},
   "outputs": [],
   "source": [
    "try:\n",
    "    with open('../config.yaml') as file:\n",
    "        config = yaml.safe_load(file)\n",
    "except:\n",
    "    print(\"Yaml file not found.\")"
   ]
  },
  {
   "cell_type": "code",
   "execution_count": 3,
   "id": "2154a102-ba4c-4e78-9764-ce8c67114ee4",
   "metadata": {},
   "outputs": [],
   "source": [
    "# Load dataset q1\n",
    "q1_df = pd.read_csv(config['input_data']['q1_dataset'])\n",
    "#q1_df.head()"
   ]
  },
  {
   "cell_type": "code",
   "execution_count": 6,
   "id": "0db408e5-19b9-40bf-a839-c9d1d9332a54",
   "metadata": {},
   "outputs": [],
   "source": [
    "# Load dataset q2\n",
    "q2_df = pd.read_csv(config['input_data']['q2_dataset'])\n",
    "#q2_df.head()"
   ]
  },
  {
   "cell_type": "code",
   "execution_count": 5,
   "id": "e0e989b5-7230-412a-a952-fac013db74b1",
   "metadata": {},
   "outputs": [
    {
     "ename": "ModuleNotFoundError",
     "evalue": "No module named 'py_files'",
     "output_type": "error",
     "traceback": [
      "\u001b[1;31m---------------------------------------------------------------------------\u001b[0m",
      "\u001b[1;31mModuleNotFoundError\u001b[0m                       Traceback (most recent call last)",
      "Cell \u001b[1;32mIn[5], line 1\u001b[0m\n\u001b[1;32m----> 1\u001b[0m \u001b[38;5;28;01mfrom\u001b[39;00m \u001b[38;5;21;01mpy_files\u001b[39;00m\u001b[38;5;21;01m.\u001b[39;00m\u001b[38;5;21;01mfunctions\u001b[39;00m \u001b[38;5;28;01mimport\u001b[39;00m cleaning_judicial_autonomy_data\n",
      "\u001b[1;31mModuleNotFoundError\u001b[0m: No module named 'py_files'"
     ]
    }
   ],
   "source": [
    "### Doesn't work... ###\n",
    "from py_files.functions import cleaning_judicial_autonomy_data"
   ]
  },
  {
   "cell_type": "code",
   "execution_count": null,
   "id": "2ee73cbb-63d9-4e9d-bd43-7b49bd81c0cf",
   "metadata": {},
   "outputs": [],
   "source": []
  }
 ],
 "metadata": {
  "kernelspec": {
   "display_name": "venv",
   "language": "python",
   "name": "venv"
  },
  "language_info": {
   "codemirror_mode": {
    "name": "ipython",
    "version": 3
   },
   "file_extension": ".py",
   "mimetype": "text/x-python",
   "name": "python",
   "nbconvert_exporter": "python",
   "pygments_lexer": "ipython3",
   "version": "3.12.3"
  }
 },
 "nbformat": 4,
 "nbformat_minor": 5
}

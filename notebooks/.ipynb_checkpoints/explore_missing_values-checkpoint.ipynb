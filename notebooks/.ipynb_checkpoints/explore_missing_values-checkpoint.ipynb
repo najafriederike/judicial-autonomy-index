{
 "cells": [
  {
   "cell_type": "markdown",
   "id": "be0ac263-dbfc-4b36-9441-663b10dc5edf",
   "metadata": {},
   "source": [
    "## Exploring missing values and recoding fuzzy values in dataset Q1"
   ]
  },
  {
   "cell_type": "code",
   "execution_count": 1,
   "id": "18852eae-5c03-45a9-a59b-b398bb2e0236",
   "metadata": {},
   "outputs": [],
   "source": [
    "import yaml\n",
    "\n",
    "import pandas as pd\n",
    "import numpy as np\n",
    "\n",
    "import matplotlib.pyplot as plt\n",
    "import seaborn as sns"
   ]
  },
  {
   "cell_type": "code",
   "execution_count": 2,
   "id": "b557283b-81cb-4639-9364-453f045aedf4",
   "metadata": {},
   "outputs": [],
   "source": [
    "try:\n",
    "    with open('../config.yaml') as file:\n",
    "        config = yaml.safe_load(file)\n",
    "except:\n",
    "    print(\"Yaml file not found.\")"
   ]
  },
  {
   "cell_type": "code",
   "execution_count": 3,
   "id": "2f39cb20-237b-47b3-a6a6-cd8da1a2ca1a",
   "metadata": {},
   "outputs": [
    {
     "data": {
      "text/html": [
       "<div>\n",
       "<style scoped>\n",
       "    .dataframe tbody tr th:only-of-type {\n",
       "        vertical-align: middle;\n",
       "    }\n",
       "\n",
       "    .dataframe tbody tr th {\n",
       "        vertical-align: top;\n",
       "    }\n",
       "\n",
       "    .dataframe thead th {\n",
       "        text-align: right;\n",
       "    }\n",
       "</style>\n",
       "<table border=\"1\" class=\"dataframe\">\n",
       "  <thead>\n",
       "    <tr style=\"text-align: right;\">\n",
       "      <th></th>\n",
       "      <th>username</th>\n",
       "      <th>country</th>\n",
       "      <th>country_code</th>\n",
       "      <th>question_no</th>\n",
       "      <th>uid</th>\n",
       "      <th>year</th>\n",
       "      <th>answer</th>\n",
       "      <th>value_na</th>\n",
       "      <th>value</th>\n",
       "    </tr>\n",
       "  </thead>\n",
       "  <tbody>\n",
       "    <tr>\n",
       "      <th>0</th>\n",
       "      <td>ALB22uFF4m</td>\n",
       "      <td>Albania</td>\n",
       "      <td>ALB</td>\n",
       "      <td>1</td>\n",
       "      <td>q1c1_apjufc</td>\n",
       "      <td>2000</td>\n",
       "      <td>Mixed system [0.5]</td>\n",
       "      <td>0.5</td>\n",
       "      <td>0.5</td>\n",
       "    </tr>\n",
       "    <tr>\n",
       "      <th>1</th>\n",
       "      <td>ALB22uFF4m</td>\n",
       "      <td>Albania</td>\n",
       "      <td>ALB</td>\n",
       "      <td>1</td>\n",
       "      <td>q1c1_apjufc</td>\n",
       "      <td>2001</td>\n",
       "      <td>Mixed system [0.5]</td>\n",
       "      <td>0.5</td>\n",
       "      <td>0.5</td>\n",
       "    </tr>\n",
       "    <tr>\n",
       "      <th>2</th>\n",
       "      <td>ALB22uFF4m</td>\n",
       "      <td>Albania</td>\n",
       "      <td>ALB</td>\n",
       "      <td>1</td>\n",
       "      <td>q1c1_apjufc</td>\n",
       "      <td>2002</td>\n",
       "      <td>Mixed system [0.5]</td>\n",
       "      <td>0.5</td>\n",
       "      <td>0.5</td>\n",
       "    </tr>\n",
       "    <tr>\n",
       "      <th>3</th>\n",
       "      <td>ALB22uFF4m</td>\n",
       "      <td>Albania</td>\n",
       "      <td>ALB</td>\n",
       "      <td>1</td>\n",
       "      <td>q1c1_apjufc</td>\n",
       "      <td>2003</td>\n",
       "      <td>Mixed system [0.5]</td>\n",
       "      <td>0.5</td>\n",
       "      <td>0.5</td>\n",
       "    </tr>\n",
       "    <tr>\n",
       "      <th>4</th>\n",
       "      <td>ALB22uFF4m</td>\n",
       "      <td>Albania</td>\n",
       "      <td>ALB</td>\n",
       "      <td>1</td>\n",
       "      <td>q1c1_apjufc</td>\n",
       "      <td>2004</td>\n",
       "      <td>Mixed system [0.5]</td>\n",
       "      <td>0.5</td>\n",
       "      <td>0.5</td>\n",
       "    </tr>\n",
       "  </tbody>\n",
       "</table>\n",
       "</div>"
      ],
      "text/plain": [
       "     username  country country_code  question_no          uid  year  \\\n",
       "0  ALB22uFF4m  Albania          ALB            1  q1c1_apjufc  2000   \n",
       "1  ALB22uFF4m  Albania          ALB            1  q1c1_apjufc  2001   \n",
       "2  ALB22uFF4m  Albania          ALB            1  q1c1_apjufc  2002   \n",
       "3  ALB22uFF4m  Albania          ALB            1  q1c1_apjufc  2003   \n",
       "4  ALB22uFF4m  Albania          ALB            1  q1c1_apjufc  2004   \n",
       "\n",
       "               answer  value_na  value  \n",
       "0  Mixed system [0.5]       0.5    0.5  \n",
       "1  Mixed system [0.5]       0.5    0.5  \n",
       "2  Mixed system [0.5]       0.5    0.5  \n",
       "3  Mixed system [0.5]       0.5    0.5  \n",
       "4  Mixed system [0.5]       0.5    0.5  "
      ]
     },
     "execution_count": 3,
     "metadata": {},
     "output_type": "execute_result"
    }
   ],
   "source": [
    "# Load dataset q1\n",
    "\n",
    "q1_df = pd.read_csv(config['input_data']['q1_dataset'])\n",
    "q1_df.head()"
   ]
  },
  {
   "cell_type": "code",
   "execution_count": 10,
   "id": "cb0d4237-876d-46e4-95f9-b4ee99283c42",
   "metadata": {},
   "outputs": [
    {
     "data": {
      "text/plain": [
       "value_na        7.992592\n",
       "value           7.992592\n",
       "answer          3.534965\n",
       "country_code    0.791557\n",
       "country         0.791557\n",
       "dtype: float64"
      ]
     },
     "execution_count": 10,
     "metadata": {},
     "output_type": "execute_result"
    }
   ],
   "source": [
    "# Check for missing values (in percentage) \n",
    "\n",
    "(q1_df.isna().mean().sort_values(ascending=False)*100).head()"
   ]
  },
  {
   "cell_type": "markdown",
   "id": "aecafccf-fe20-40e7-8b15-206469c2cdf2",
   "metadata": {},
   "source": [
    "#### Clean dataset"
   ]
  },
  {
   "cell_type": "code",
   "execution_count": 6,
   "id": "c80bfd69-2be2-419c-936c-0dfdcd67c66b",
   "metadata": {},
   "outputs": [],
   "source": [
    "import sys\n",
    "sys.path.append('../py_files')\n",
    "from functions import cleaning_judicial_autonomy_data"
   ]
  },
  {
   "cell_type": "code",
   "execution_count": 7,
   "id": "cf0376f1-dea5-48f5-9d40-f88b18a5d9af",
   "metadata": {},
   "outputs": [],
   "source": [
    "clean_q1_df = cleaning_judicial_autonomy_data(q1_df)\n",
    "#clean_q1_df"
   ]
  },
  {
   "cell_type": "code",
   "execution_count": null,
   "id": "e391ceec-14a0-4ec8-9e58-3e4eff797703",
   "metadata": {},
   "outputs": [],
   "source": [
    "# Decide to drop all questions with more than 20% values missing\n",
    "\n",
    "columns_nan_percentage = q1_cleaned.isna().mean()*100\n",
    "columns_nan_20_percent = columns_nan_percentage[columns_nan_percentage > 20].index\n",
    "columns_nan_20_percent"
   ]
  }
 ],
 "metadata": {
  "kernelspec": {
   "display_name": "venv",
   "language": "python",
   "name": "venv"
  },
  "language_info": {
   "codemirror_mode": {
    "name": "ipython",
    "version": 3
   },
   "file_extension": ".py",
   "mimetype": "text/x-python",
   "name": "python",
   "nbconvert_exporter": "python",
   "pygments_lexer": "ipython3",
   "version": "3.12.3"
  }
 },
 "nbformat": 4,
 "nbformat_minor": 5
}

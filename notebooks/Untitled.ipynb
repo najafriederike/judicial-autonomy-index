{
 "cells": [
  {
   "cell_type": "code",
   "execution_count": null,
   "id": "29dc11c2-2baa-4fb5-b3b3-a86f190f610f",
   "metadata": {},
   "outputs": [],
   "source": [
    "NOTES"
   ]
  },
  {
   "cell_type": "code",
   "execution_count": null,
   "id": "29ee964f-deb5-4f58-a5e6-b50445149e23",
   "metadata": {},
   "outputs": [],
   "source": [
    "# Stand up with Ignacio\n",
    "\n",
    "# Make an scatterplot of pred (y-axis) vs real (x-axis)\n",
    "# pred = real\n",
    "# pred = 0 + real\n",
    "# pred = 0 + 1 * real\n",
    "# FOR K-NN use the SHAP values\n",
    "# RF = RandomForestRegressor()\n",
    "# RF.fit(X_rain, y_train)\n",
    "# RF.predict(..)\n",
    "# RF.feature_importances_\n",
    "# LM.coef_"
   ]
  }
 ],
 "metadata": {
  "kernelspec": {
   "display_name": "venv",
   "language": "python",
   "name": "venv"
  },
  "language_info": {
   "codemirror_mode": {
    "name": "ipython",
    "version": 3
   },
   "file_extension": ".py",
   "mimetype": "text/x-python",
   "name": "python",
   "nbconvert_exporter": "python",
   "pygments_lexer": "ipython3",
   "version": "3.12.3"
  }
 },
 "nbformat": 4,
 "nbformat_minor": 5
}

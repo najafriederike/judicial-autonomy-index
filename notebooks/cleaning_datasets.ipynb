{
 "cells": [
  {
   "cell_type": "markdown",
   "id": "309361f7-cff1-41e5-ac92-99a1a392fc98",
   "metadata": {},
   "source": [
    "### Cleaning dataset"
   ]
  },
  {
   "cell_type": "code",
   "execution_count": 1,
   "id": "88533cfc-9e90-4b1e-9b1b-bb49490290af",
   "metadata": {},
   "outputs": [],
   "source": [
    "import pandas as pd\n",
    "import numpy as np\n",
    "\n",
    "import yaml"
   ]
  },
  {
   "cell_type": "code",
   "execution_count": 2,
   "id": "2576af79-b1c6-41bd-abad-3aa404fea47a",
   "metadata": {},
   "outputs": [],
   "source": [
    "try:\n",
    "    with open('../config.yaml') as file:\n",
    "        config = yaml.safe_load(file)\n",
    "except:\n",
    "    print(\"Yaml file not found.\")"
   ]
  },
  {
   "cell_type": "code",
   "execution_count": 6,
   "id": "2154a102-ba4c-4e78-9764-ce8c67114ee4",
   "metadata": {},
   "outputs": [
    {
     "data": {
      "text/html": [
       "<div>\n",
       "<style scoped>\n",
       "    .dataframe tbody tr th:only-of-type {\n",
       "        vertical-align: middle;\n",
       "    }\n",
       "\n",
       "    .dataframe tbody tr th {\n",
       "        vertical-align: top;\n",
       "    }\n",
       "\n",
       "    .dataframe thead th {\n",
       "        text-align: right;\n",
       "    }\n",
       "</style>\n",
       "<table border=\"1\" class=\"dataframe\">\n",
       "  <thead>\n",
       "    <tr style=\"text-align: right;\">\n",
       "      <th></th>\n",
       "      <th>username</th>\n",
       "      <th>country</th>\n",
       "      <th>country_code</th>\n",
       "      <th>question_no</th>\n",
       "      <th>uid</th>\n",
       "      <th>year</th>\n",
       "      <th>answer</th>\n",
       "      <th>value_na</th>\n",
       "      <th>value</th>\n",
       "    </tr>\n",
       "  </thead>\n",
       "  <tbody>\n",
       "    <tr>\n",
       "      <th>0</th>\n",
       "      <td>ALB22uFF4m</td>\n",
       "      <td>Albania</td>\n",
       "      <td>ALB</td>\n",
       "      <td>1</td>\n",
       "      <td>q1c1_apjufc</td>\n",
       "      <td>2000</td>\n",
       "      <td>Mixed system [0.5]</td>\n",
       "      <td>0.5</td>\n",
       "      <td>0.5</td>\n",
       "    </tr>\n",
       "    <tr>\n",
       "      <th>1</th>\n",
       "      <td>ALB22uFF4m</td>\n",
       "      <td>Albania</td>\n",
       "      <td>ALB</td>\n",
       "      <td>1</td>\n",
       "      <td>q1c1_apjufc</td>\n",
       "      <td>2001</td>\n",
       "      <td>Mixed system [0.5]</td>\n",
       "      <td>0.5</td>\n",
       "      <td>0.5</td>\n",
       "    </tr>\n",
       "    <tr>\n",
       "      <th>2</th>\n",
       "      <td>ALB22uFF4m</td>\n",
       "      <td>Albania</td>\n",
       "      <td>ALB</td>\n",
       "      <td>1</td>\n",
       "      <td>q1c1_apjufc</td>\n",
       "      <td>2002</td>\n",
       "      <td>Mixed system [0.5]</td>\n",
       "      <td>0.5</td>\n",
       "      <td>0.5</td>\n",
       "    </tr>\n",
       "    <tr>\n",
       "      <th>3</th>\n",
       "      <td>ALB22uFF4m</td>\n",
       "      <td>Albania</td>\n",
       "      <td>ALB</td>\n",
       "      <td>1</td>\n",
       "      <td>q1c1_apjufc</td>\n",
       "      <td>2003</td>\n",
       "      <td>Mixed system [0.5]</td>\n",
       "      <td>0.5</td>\n",
       "      <td>0.5</td>\n",
       "    </tr>\n",
       "    <tr>\n",
       "      <th>4</th>\n",
       "      <td>ALB22uFF4m</td>\n",
       "      <td>Albania</td>\n",
       "      <td>ALB</td>\n",
       "      <td>1</td>\n",
       "      <td>q1c1_apjufc</td>\n",
       "      <td>2004</td>\n",
       "      <td>Mixed system [0.5]</td>\n",
       "      <td>0.5</td>\n",
       "      <td>0.5</td>\n",
       "    </tr>\n",
       "  </tbody>\n",
       "</table>\n",
       "</div>"
      ],
      "text/plain": [
       "     username  country country_code  question_no          uid  year  \\\n",
       "0  ALB22uFF4m  Albania          ALB            1  q1c1_apjufc  2000   \n",
       "1  ALB22uFF4m  Albania          ALB            1  q1c1_apjufc  2001   \n",
       "2  ALB22uFF4m  Albania          ALB            1  q1c1_apjufc  2002   \n",
       "3  ALB22uFF4m  Albania          ALB            1  q1c1_apjufc  2003   \n",
       "4  ALB22uFF4m  Albania          ALB            1  q1c1_apjufc  2004   \n",
       "\n",
       "               answer  value_na  value  \n",
       "0  Mixed system [0.5]       0.5    0.5  \n",
       "1  Mixed system [0.5]       0.5    0.5  \n",
       "2  Mixed system [0.5]       0.5    0.5  \n",
       "3  Mixed system [0.5]       0.5    0.5  \n",
       "4  Mixed system [0.5]       0.5    0.5  "
      ]
     },
     "execution_count": 6,
     "metadata": {},
     "output_type": "execute_result"
    }
   ],
   "source": [
    "# Load dataset q1\n",
    "q1_df = pd.read_csv(config['input_data']['q1_dataset'])\n",
    "q1_df.head()"
   ]
  },
  {
   "cell_type": "code",
   "execution_count": 4,
   "id": "0db408e5-19b9-40bf-a839-c9d1d9332a54",
   "metadata": {},
   "outputs": [],
   "source": [
    "# Load dataset q2\n",
    "q2_df = pd.read_csv(config['input_data']['q2_dataset'])\n",
    "#q2_df.head()"
   ]
  },
  {
   "cell_type": "code",
   "execution_count": 5,
   "id": "e0e989b5-7230-412a-a952-fac013db74b1",
   "metadata": {},
   "outputs": [
    {
     "ename": "ModuleNotFoundError",
     "evalue": "No module named 'py_files'",
     "output_type": "error",
     "traceback": [
      "\u001b[1;31m---------------------------------------------------------------------------\u001b[0m",
      "\u001b[1;31mModuleNotFoundError\u001b[0m                       Traceback (most recent call last)",
      "Cell \u001b[1;32mIn[5], line 2\u001b[0m\n\u001b[0;32m      1\u001b[0m \u001b[38;5;66;03m### Doesn't work... ###\u001b[39;00m\n\u001b[1;32m----> 2\u001b[0m \u001b[38;5;28;01mfrom\u001b[39;00m \u001b[38;5;21;01mpy_files\u001b[39;00m\u001b[38;5;21;01m.\u001b[39;00m\u001b[38;5;21;01mfunctions\u001b[39;00m \u001b[38;5;28;01mimport\u001b[39;00m cleaning_judicial_autonomy_data\n",
      "\u001b[1;31mModuleNotFoundError\u001b[0m: No module named 'py_files'"
     ]
    }
   ],
   "source": [
    "### Doesn't work... ###\n",
    "from py_files.functions import cleaning_judicial_autonomy_data"
   ]
  },
  {
   "cell_type": "code",
   "execution_count": null,
   "id": "2ee73cbb-63d9-4e9d-bd43-7b49bd81c0cf",
   "metadata": {},
   "outputs": [],
   "source": []
  }
 ],
 "metadata": {
  "kernelspec": {
   "display_name": "venv",
   "language": "python",
   "name": "venv"
  },
  "language_info": {
   "codemirror_mode": {
    "name": "ipython",
    "version": 3
   },
   "file_extension": ".py",
   "mimetype": "text/x-python",
   "name": "python",
   "nbconvert_exporter": "python",
   "pygments_lexer": "ipython3",
   "version": "3.12.3"
  }
 },
 "nbformat": 4,
 "nbformat_minor": 5
}
